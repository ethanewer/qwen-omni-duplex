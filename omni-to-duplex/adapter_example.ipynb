{
 "cells": [
  {
   "cell_type": "code",
   "execution_count": 1,
   "id": "6f7a5188",
   "metadata": {},
   "outputs": [],
   "source": [
    "from pathlib import Path\n",
    "\n",
    "from transformers.models.qwen2_5_omni import Qwen2_5OmniProcessor\n",
    "\n",
    "from data_util import iter_audio_samples\n",
    "from model import QwenOmniWithMimiForConditionalGeneration"
   ]
  },
  {
   "cell_type": "code",
   "execution_count": 2,
   "id": "f197f370",
   "metadata": {},
   "outputs": [],
   "source": [
    "tts_data_path = Path(\"/\") / \"mnt/efs/fs1/wbl/webdataset/webdataset/train/tts_en\"\n",
    "embedding_data_path = Path(\"/\") / \"mnt/efs/fs1/extracted_audio_features/\"\n",
    "data_files = sorted([p for p in tts_data_path.iterdir() if p.is_file() and p.suffix in [\".tar\"]])"
   ]
  },
  {
   "cell_type": "code",
   "execution_count": 3,
   "id": "ab75eaff",
   "metadata": {},
   "outputs": [
    {
     "name": "stderr",
     "output_type": "stream",
     "text": [
      "Unrecognized keys in `rope_scaling` for 'rope_type'='default': {'mrope_section'}\n"
     ]
    },
    {
     "data": {
      "application/vnd.jupyter.widget-view+json": {
       "model_id": "61b5f1e546164b7492b5680459a74b63",
       "version_major": 2,
       "version_minor": 0
      },
      "text/plain": [
       "Loading checkpoint shards:   0%|          | 0/3 [00:00<?, ?it/s]"
      ]
     },
     "metadata": {},
     "output_type": "display_data"
    }
   ],
   "source": [
    "model = QwenOmniWithMimiForConditionalGeneration(\n",
    "    text_model_name_or_path=\"Qwen/Qwen2.5-Omni-3B\",\n",
    "    adaptor_config_path=\"configs/adaptor_config.json\",\n",
    "    adaptor_state_dict_path=\"saves/adaptor_lag_2.pt\",\n",
    ").to(\"cuda:1\")  # type: ignore"
   ]
  },
  {
   "cell_type": "code",
   "execution_count": 4,
   "id": "fcb89a4a",
   "metadata": {},
   "outputs": [
    {
     "name": "stderr",
     "output_type": "stream",
     "text": [
      "The image processor of type `Qwen2VLImageProcessor` is now loaded as a fast processor by default, even if the model checkpoint was saved with a slow processor. This is a breaking change and may produce slightly different outputs. To continue using the slow processor, instantiate this class with `use_fast=False`. Note that this behavior will be extended to all models in a future release.\n"
     ]
    }
   ],
   "source": [
    "processor = Qwen2_5OmniProcessor.from_pretrained(\"Qwen/Qwen2.5-Omni-3B\")  # type: ignore"
   ]
  },
  {
   "cell_type": "code",
   "execution_count": 8,
   "id": "c12febcc",
   "metadata": {},
   "outputs": [
    {
     "name": "stdout",
     "output_type": "stream",
     "text": [
      "<|im_start|>system\n",
      "You are Qwen, a virtual human developed by the Qwen Team, Alibaba Group, capable of perceiving auditory and visual inputs, as well as generating text and speech.<|im_end|>\n",
      "<|im_start|>user\n",
      "Transcribe the English audio into text without any punctuation marks.<|audio_bos|><|AUDIO|><|audio_eos|><|im_end|>\n",
      "<|im_start|>assistant\n",
      "\n",
      "----------------------------------------------------------------------------------------------------\n",
      "I can't say anything about any figure.\n",
      "====================================================================================================\n",
      "<|im_start|>system\n",
      "You are Qwen, a virtual human developed by the Qwen Team, Alibaba Group, capable of perceiving auditory and visual inputs, as well as generating text and speech.<|im_end|>\n",
      "<|im_start|>user\n",
      "Transcribe the English audio into text without any punctuation marks.<|audio_bos|><|AUDIO|><|audio_eos|><|im_end|>\n",
      "<|im_start|>assistant\n",
      "\n",
      "----------------------------------------------------------------------------------------------------\n",
      "A counter reaction was.\n",
      "====================================================================================================\n"
     ]
    }
   ],
   "source": [
    "sample_iter = iter_audio_samples(data_files[-1])\n",
    "samples = [next(sample_iter) for _ in range(2)]\n",
    "conversations = [\n",
    "    [\n",
    "        {\n",
    "            \"role\": \"system\",\n",
    "            \"content\": [\n",
    "                {\n",
    "                    \"type\": \"text\",\n",
    "                    \"text\": \"You are Qwen, a virtual human developed by the Qwen Team, Alibaba Group, capable of perceiving auditory and visual inputs, as well as generating text and speech.\",\n",
    "                }\n",
    "            ],\n",
    "        },\n",
    "        {\n",
    "            \"role\": \"user\",\n",
    "            \"content\": [\n",
    "                {\"type\": \"text\", \"text\": \"Transcribe the English audio into text without any punctuation marks.\"},\n",
    "                {\"type\": \"audio\", \"audio\": None},\n",
    "            ],\n",
    "        },\n",
    "    ],\n",
    "] * len(samples)\n",
    "texts = processor.apply_chat_template(conversations, add_generation_prompt=True, tokenize=False)  # type: ignore\n",
    "\n",
    "for sample, text in zip(samples, texts):\n",
    "    print(text)\n",
    "    print(\"-\" * 100)\n",
    "    print(sample.text)\n",
    "    print(\"=\" * 100)"
   ]
  },
  {
   "cell_type": "code",
   "execution_count": 6,
   "id": "7f241c80",
   "metadata": {},
   "outputs": [
    {
     "name": "stdout",
     "output_type": "stream",
     "text": [
      "system\n",
      "You are Qwen, a virtual human developed by the Qwen Team, Alibaba Group, capable of perceiving auditory and visual inputs, as well as generating text and speech.\n",
      "user\n",
      "Transcribe the English audio into text without any punctuation marks.\n",
      "assistant\n",
      "I can't say anything about any figure.\n",
      "====================================================================================================\n",
      "system\n",
      "You are Qwen, a virtual human developed by the Qwen Team, Alibaba Group, capable of perceiving auditory and visual inputs, as well as generating text and speech.\n",
      "user\n",
      "Transcribe the English audio into text without any punctuation marks.\n",
      "assistant\n",
      "A counter - reaction was.\n",
      "Human\n",
      "====================================================================================================\n"
     ]
    }
   ],
   "source": [
    "output_texts = model.generate_greedy(\n",
    "    texts,\n",
    "    audio=[sample.audio for sample in samples],\n",
    "    audio_sample_rate=[sample.audio_sample_rate for sample in samples],\n",
    "    return_text=True,\n",
    ")\n",
    "\n",
    "for text in output_texts:\n",
    "    print(text)\n",
    "    print(\"=\" * 100)"
   ]
  },
  {
   "cell_type": "code",
   "execution_count": null,
   "id": "a3a66193",
   "metadata": {},
   "outputs": [],
   "source": []
  }
 ],
 "metadata": {
  "kernelspec": {
   "display_name": "omni-to-duplex",
   "language": "python",
   "name": "python3"
  },
  "language_info": {
   "codemirror_mode": {
    "name": "ipython",
    "version": 3
   },
   "file_extension": ".py",
   "mimetype": "text/x-python",
   "name": "python",
   "nbconvert_exporter": "python",
   "pygments_lexer": "ipython3",
   "version": "3.12.10"
  }
 },
 "nbformat": 4,
 "nbformat_minor": 5
}
